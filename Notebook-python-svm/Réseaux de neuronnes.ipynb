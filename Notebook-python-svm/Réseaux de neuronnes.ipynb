{
 "cells": [
  {
   "cell_type": "code",
   "execution_count": 1,
   "metadata": {},
   "outputs": [],
   "source": [
    "import pandas as pd\n",
    "import numpy as np\n",
    "import random as rnd\n",
    "\n",
    "\n",
    "import seaborn as sns\n",
    "import matplotlib.pyplot as plt\n",
    "import sklearn.model_selection\n",
    "import sklearn.svm as svm\n",
    "import sklearn.metrics\n",
    "from matplotlib import pyplot"
   ]
  },
  {
   "cell_type": "code",
   "execution_count": 3,
   "metadata": {},
   "outputs": [],
   "source": [
    "#Importation des données\n",
    "titanic_train='/Users/Naoufali/Desktop/M2 Ekap/titanic/train.csv'\n",
    "titanic_test='/Users/Naoufali/Desktop/M2 Ekap/titanic/test.csv'\n",
    "gender='/Users/Naoufali/Desktop/M2 Ekap/titanic/gender_submission.csv'\n",
    "\n",
    "train = pd.read_csv(titanic_train)\n",
    "test = pd.read_csv(titanic_test)\n",
    "gender_submission = pd.read_csv(gender)"
   ]
  },
  {
   "cell_type": "code",
   "execution_count": null,
   "metadata": {},
   "outputs": [],
   "source": [
    "#Visualisation\n",
    "train.head()"
   ]
  },
  {
   "cell_type": "code",
   "execution_count": null,
   "metadata": {},
   "outputs": [],
   "source": [
    "#Visualisation\n",
    "test.head()"
   ]
  },
  {
   "cell_type": "code",
   "execution_count": null,
   "metadata": {},
   "outputs": [],
   "source": [
    "#Visualisation\n",
    "\n",
    "gender_submission.head()"
   ]
  },
  {
   "cell_type": "code",
   "execution_count": 6,
   "metadata": {},
   "outputs": [],
   "source": [
    "train['Cabin?'] = np.where(pd.isnull(train['Cabin']), 0,1)\n",
    "predictors = ['Pclass','Sex', 'Age', 'SibSp','Parch', 'Fare', 'Cabin?', 'Embarked']"
   ]
  },
  {
   "cell_type": "code",
   "execution_count": 7,
   "metadata": {},
   "outputs": [],
   "source": [
    "#Suppression des valeurs Nan + maj \n",
    "def impute_age(cols):\n",
    "    age = cols[0]\n",
    "    sex = cols[1]\n",
    "    pclass = cols[2]\n",
    "    if pd.isnull(age):\n",
    "        if sex == 'female':\n",
    "            if pclass == 1:\n",
    "                return 35\n",
    "            elif pclass == 2:\n",
    "                return 28\n",
    "            elif pclass == 3:\n",
    "                return 21.5\n",
    "            else:\n",
    "                return np.nan\n",
    "        elif sex == 'male':\n",
    "            if pclass == 1:\n",
    "                return 40\n",
    "            elif pclass == 2:\n",
    "                return 30\n",
    "            elif pclass == 3:\n",
    "                return 25\n",
    "            else:\n",
    "                return np.nan\n",
    "    else:\n",
    "        return age\n",
    "\n",
    "    \n",
    "train['Age']=train[['Age','Sex','Pclass']].apply(impute_age,axis=1)"
   ]
  },
  {
   "cell_type": "code",
   "execution_count": 8,
   "metadata": {},
   "outputs": [],
   "source": [
    "male = pd.get_dummies(train['Sex'], drop_first=True)\n",
    "port = pd.get_dummies(train['Embarked'], drop_first=True)\n",
    "train = pd.concat([train, male, port],axis=1)\n",
    "train[pd.isnull(train['Embarked'])==True]\n",
    "train.loc[61,'Q']=0.33\n",
    "train.loc[61,'S']=0.33\n",
    "train.loc[829,'Q']=0.33\n",
    "train.loc[829,'S']=0.33\n",
    "predictors_num = ['Pclass', 'male', 'Age', 'SibSp', 'Parch', 'Fare', 'Cabin?', 'Q','S']"
   ]
  },
  {
   "cell_type": "code",
   "execution_count": 9,
   "metadata": {},
   "outputs": [],
   "source": [
    "yX_tr, X_test, y_tr, y_test = sklearn.model_selection.train_test_split(train[predictors_num],train['Survived'], random_state = 1)"
   ]
  },
  {
   "cell_type": "code",
   "execution_count": 10,
   "metadata": {},
   "outputs": [
    {
     "data": {
      "text/html": [
       "<div>\n",
       "<style scoped>\n",
       "    .dataframe tbody tr th:only-of-type {\n",
       "        vertical-align: middle;\n",
       "    }\n",
       "\n",
       "    .dataframe tbody tr th {\n",
       "        vertical-align: top;\n",
       "    }\n",
       "\n",
       "    .dataframe thead th {\n",
       "        text-align: right;\n",
       "    }\n",
       "</style>\n",
       "<table border=\"1\" class=\"dataframe\">\n",
       "  <thead>\n",
       "    <tr style=\"text-align: right;\">\n",
       "      <th></th>\n",
       "      <th>Pclass</th>\n",
       "      <th>male</th>\n",
       "      <th>Age</th>\n",
       "      <th>SibSp</th>\n",
       "      <th>Parch</th>\n",
       "      <th>Fare</th>\n",
       "      <th>Cabin?</th>\n",
       "      <th>Q</th>\n",
       "      <th>S</th>\n",
       "    </tr>\n",
       "  </thead>\n",
       "  <tbody>\n",
       "    <tr>\n",
       "      <td>35</td>\n",
       "      <td>1</td>\n",
       "      <td>1</td>\n",
       "      <td>42.0</td>\n",
       "      <td>1</td>\n",
       "      <td>0</td>\n",
       "      <td>52.0000</td>\n",
       "      <td>0</td>\n",
       "      <td>0.0</td>\n",
       "      <td>1.0</td>\n",
       "    </tr>\n",
       "    <tr>\n",
       "      <td>46</td>\n",
       "      <td>3</td>\n",
       "      <td>1</td>\n",
       "      <td>25.0</td>\n",
       "      <td>1</td>\n",
       "      <td>0</td>\n",
       "      <td>15.5000</td>\n",
       "      <td>0</td>\n",
       "      <td>1.0</td>\n",
       "      <td>0.0</td>\n",
       "    </tr>\n",
       "    <tr>\n",
       "      <td>453</td>\n",
       "      <td>1</td>\n",
       "      <td>1</td>\n",
       "      <td>49.0</td>\n",
       "      <td>1</td>\n",
       "      <td>0</td>\n",
       "      <td>89.1042</td>\n",
       "      <td>1</td>\n",
       "      <td>0.0</td>\n",
       "      <td>0.0</td>\n",
       "    </tr>\n",
       "    <tr>\n",
       "      <td>291</td>\n",
       "      <td>1</td>\n",
       "      <td>0</td>\n",
       "      <td>19.0</td>\n",
       "      <td>1</td>\n",
       "      <td>0</td>\n",
       "      <td>91.0792</td>\n",
       "      <td>1</td>\n",
       "      <td>0.0</td>\n",
       "      <td>0.0</td>\n",
       "    </tr>\n",
       "    <tr>\n",
       "      <td>748</td>\n",
       "      <td>1</td>\n",
       "      <td>1</td>\n",
       "      <td>19.0</td>\n",
       "      <td>1</td>\n",
       "      <td>0</td>\n",
       "      <td>53.1000</td>\n",
       "      <td>1</td>\n",
       "      <td>0.0</td>\n",
       "      <td>1.0</td>\n",
       "    </tr>\n",
       "    <tr>\n",
       "      <td>...</td>\n",
       "      <td>...</td>\n",
       "      <td>...</td>\n",
       "      <td>...</td>\n",
       "      <td>...</td>\n",
       "      <td>...</td>\n",
       "      <td>...</td>\n",
       "      <td>...</td>\n",
       "      <td>...</td>\n",
       "      <td>...</td>\n",
       "    </tr>\n",
       "    <tr>\n",
       "      <td>715</td>\n",
       "      <td>3</td>\n",
       "      <td>1</td>\n",
       "      <td>19.0</td>\n",
       "      <td>0</td>\n",
       "      <td>0</td>\n",
       "      <td>7.6500</td>\n",
       "      <td>1</td>\n",
       "      <td>0.0</td>\n",
       "      <td>1.0</td>\n",
       "    </tr>\n",
       "    <tr>\n",
       "      <td>767</td>\n",
       "      <td>3</td>\n",
       "      <td>0</td>\n",
       "      <td>30.5</td>\n",
       "      <td>0</td>\n",
       "      <td>0</td>\n",
       "      <td>7.7500</td>\n",
       "      <td>0</td>\n",
       "      <td>1.0</td>\n",
       "      <td>0.0</td>\n",
       "    </tr>\n",
       "    <tr>\n",
       "      <td>72</td>\n",
       "      <td>2</td>\n",
       "      <td>1</td>\n",
       "      <td>21.0</td>\n",
       "      <td>0</td>\n",
       "      <td>0</td>\n",
       "      <td>73.5000</td>\n",
       "      <td>0</td>\n",
       "      <td>0.0</td>\n",
       "      <td>1.0</td>\n",
       "    </tr>\n",
       "    <tr>\n",
       "      <td>235</td>\n",
       "      <td>3</td>\n",
       "      <td>0</td>\n",
       "      <td>21.5</td>\n",
       "      <td>0</td>\n",
       "      <td>0</td>\n",
       "      <td>7.5500</td>\n",
       "      <td>0</td>\n",
       "      <td>0.0</td>\n",
       "      <td>1.0</td>\n",
       "    </tr>\n",
       "    <tr>\n",
       "      <td>37</td>\n",
       "      <td>3</td>\n",
       "      <td>1</td>\n",
       "      <td>21.0</td>\n",
       "      <td>0</td>\n",
       "      <td>0</td>\n",
       "      <td>8.0500</td>\n",
       "      <td>0</td>\n",
       "      <td>0.0</td>\n",
       "      <td>1.0</td>\n",
       "    </tr>\n",
       "  </tbody>\n",
       "</table>\n",
       "<p>668 rows × 9 columns</p>\n",
       "</div>"
      ],
      "text/plain": [
       "     Pclass  male   Age  SibSp  Parch     Fare  Cabin?    Q    S\n",
       "35        1     1  42.0      1      0  52.0000       0  0.0  1.0\n",
       "46        3     1  25.0      1      0  15.5000       0  1.0  0.0\n",
       "453       1     1  49.0      1      0  89.1042       1  0.0  0.0\n",
       "291       1     0  19.0      1      0  91.0792       1  0.0  0.0\n",
       "748       1     1  19.0      1      0  53.1000       1  0.0  1.0\n",
       "..      ...   ...   ...    ...    ...      ...     ...  ...  ...\n",
       "715       3     1  19.0      0      0   7.6500       1  0.0  1.0\n",
       "767       3     0  30.5      0      0   7.7500       0  1.0  0.0\n",
       "72        2     1  21.0      0      0  73.5000       0  0.0  1.0\n",
       "235       3     0  21.5      0      0   7.5500       0  0.0  1.0\n",
       "37        3     1  21.0      0      0   8.0500       0  0.0  1.0\n",
       "\n",
       "[668 rows x 9 columns]"
      ]
     },
     "execution_count": 10,
     "metadata": {},
     "output_type": "execute_result"
    }
   ],
   "source": [
    "X_tr"
   ]
  },
  {
   "cell_type": "code",
   "execution_count": 25,
   "metadata": {},
   "outputs": [
    {
     "name": "stderr",
     "output_type": "stream",
     "text": [
      "/Users/Naoufali/opt/anaconda3/lib/python3.7/site-packages/sklearn/neural_network/multilayer_perceptron.py:566: ConvergenceWarning: Stochastic Optimizer: Maximum iterations (200) reached and the optimization hasn't converged yet.\n",
      "  % self.max_iter, ConvergenceWarning)\n"
     ]
    }
   ],
   "source": [
    "from sklearn.neural_network import MLPClassifier\n",
    "from sklearn.model_selection import train_test_split \n",
    "#On importe la fonction train_test_split de la librairie sklearn (fonction pour diviser aléatoirement une base)\n",
    "from sklearn import metrics #la librairie metrics permet de faire des calcul sur les modèles de sklearn\n",
    "from sklearn.model_selection import cross_val_score\n",
    "\n",
    "\n",
    "MLP_model = MLPClassifier()\n",
    "MLP_model.fit(X_tr,y_tr)\n",
    "y_pred=MLP_model.predict(X_test)"
   ]
  },
  {
   "cell_type": "code",
   "execution_count": 26,
   "metadata": {},
   "outputs": [
    {
     "name": "stderr",
     "output_type": "stream",
     "text": [
      "/Users/Naoufali/opt/anaconda3/lib/python3.7/site-packages/sklearn/neural_network/multilayer_perceptron.py:566: ConvergenceWarning: Stochastic Optimizer: Maximum iterations (200) reached and the optimization hasn't converged yet.\n",
      "  % self.max_iter, ConvergenceWarning)\n"
     ]
    },
    {
     "name": "stdout",
     "output_type": "stream",
     "text": [
      "Taux de prédiction sur échantillon d'entrainement : 0.8218562874251497\n",
      "Taux de prédiction sur échantillon découpé aléatoirement: 0.7892376681614349 \n",
      "\n",
      "[[112  16]\n",
      " [ 31  64]]\n"
     ]
    },
    {
     "name": "stderr",
     "output_type": "stream",
     "text": [
      "/Users/Naoufali/opt/anaconda3/lib/python3.7/site-packages/sklearn/neural_network/multilayer_perceptron.py:566: ConvergenceWarning: Stochastic Optimizer: Maximum iterations (200) reached and the optimization hasn't converged yet.\n",
      "  % self.max_iter, ConvergenceWarning)\n"
     ]
    },
    {
     "name": "stdout",
     "output_type": "stream",
     "text": [
      "Taux dde prédiction trouvés : [0.79411765 0.70149254 0.6119403  0.67164179 0.76119403 0.74626866\n",
      " 0.76119403 0.6969697  0.66666667 0.78787879]\n",
      "Taux de prédiction de Cross-Validation (moyenne) : 0.7199364141857558\n"
     ]
    }
   ],
   "source": [
    "from sklearn.neural_network import MLPClassifier\n",
    "\n",
    "MLP_model = MLPClassifier()\n",
    "MLP_model.fit(X_tr,y_tr)\n",
    "\n",
    "\n",
    "#Taux de prédiction sur l'échantillon d'entrainement(in-sample), ici toute la base : 100%\n",
    "print(\"Taux de prédiction sur échantillon d'entrainement : {}\" .format(MLP_model.score(X_tr,y_tr)))\n",
    "\n",
    "#Taux de prédiction hors échantillon découpé aléatoirement:\n",
    "MLP_model.fit(X_tr,y_tr)\n",
    "y_pred=MLP_model.predict(X_test)\n",
    "#Taux de prédiction de 95,6% \n",
    "\n",
    "print(\"Taux de prédiction sur échantillon découpé aléatoirement:\", metrics.accuracy_score(y_true=y_test, y_pred=y_pred), \"\\n\") #Taux de bonne prédiction\n",
    "print(metrics.confusion_matrix(y_true=y_test, y_pred=y_pred)) #Matrice de confusion\n",
    "\n",
    "#Taux de prédiction moyen à l'aide de la cross validation:\n",
    "cv_results = cross_val_score(MLP_model, X_tr, y_tr, cv=10)\n",
    "moyenne_cv_results = cv_results.mean()\n",
    "print(\"Taux dde prédiction trouvés : {}\" .format(cv_results))\n",
    "print(\"Taux de prédiction de Cross-Validation (moyenne) : {}\" .format(moyenne_cv_results))\n",
    "\n",
    "#Le taux moyen de bonne prediction est de 95,3% sur les 10 test de modèles,\n",
    "#cette valeur est moins bonne que pour les modèles SVM"
   ]
  },
  {
   "cell_type": "code",
   "execution_count": null,
   "metadata": {},
   "outputs": [],
   "source": []
  }
 ],
 "metadata": {
  "kernelspec": {
   "display_name": "Python 3",
   "language": "python",
   "name": "python3"
  },
  "language_info": {
   "codemirror_mode": {
    "name": "ipython",
    "version": 3
   },
   "file_extension": ".py",
   "mimetype": "text/x-python",
   "name": "python",
   "nbconvert_exporter": "python",
   "pygments_lexer": "ipython3",
   "version": "3.7.4"
  }
 },
 "nbformat": 4,
 "nbformat_minor": 2
}
